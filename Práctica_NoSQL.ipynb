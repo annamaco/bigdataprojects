{
 "cells": [
  {
   "cell_type": "markdown",
   "id": "9df9ec23",
   "metadata": {},
   "source": [
    "Conexión a la base de datos: Nos conectamos, mediante pymongo, a la base de datos y a la colección que creamos para los ejercicios resueltos.\n",
    "\n",
    "Consultas: Realizamos las mismas consultas que ya hicimos en los ejercicios de MongoDB.\n",
    "\n",
    "Visualización sencilla de los datos: Generamos gráficos con matplotlib que muestren la distribución de valores de \"borough\" y \"cuisine\". Los posibles valores de cada variable y su número de registros asociados deben generarse mediante una consulta en pymongo.\n",
    "\n",
    "Inserción de datos: Insertamos todos los nuevos restaurantes almacenados en \"new_restaurants.json\".\n",
    "\n",
    "Añadir nuevos campos a los documentos: Creamos un valor raíz en cada documento con el nombre \"avg_score\", que contiene el valor medio de \"puntuación\" de ese restaurante. Si no se han encontrado valores para realizar este cálculo, ponemos en su lugar un valor Nulo. Se puede hacer de dos manera el cálculo, o bien con una query de Mongo o bien haciendo cada cálculo con Python en insertando los resultados.\n",
    "\n",
    "(Extra y opcional) Visualización de datos geográficos: Generamos un archivo png de un mapa que muestra puntos coloreados con las coordenadas de cada restaurante. Debe utilizar un color diferente por tipo de \"cocina\". Puede utilizar algo como esto para crear el mapa."
   ]
  },
  {
   "cell_type": "code",
   "execution_count": 1,
   "id": "7f74fe64",
   "metadata": {},
   "outputs": [
    {
     "name": "stdout",
     "output_type": "stream",
     "text": [
      "Collecting pymongo\n",
      "  Downloading pymongo-4.5.0-cp39-cp39-macosx_10_9_universal2.whl (529 kB)\n",
      "\u001b[2K     \u001b[90m━━━━━━━━━━━━━━━━━━━━━━━━━━━━━━━━━━━━━━━\u001b[0m \u001b[32m529.6/529.6 kB\u001b[0m \u001b[31m7.1 MB/s\u001b[0m eta \u001b[36m0:00:00\u001b[0ma \u001b[36m0:00:01\u001b[0m\n",
      "\u001b[?25hCollecting dnspython<3.0.0,>=1.16.0 (from pymongo)\n",
      "  Downloading dnspython-2.4.2-py3-none-any.whl (300 kB)\n",
      "\u001b[2K     \u001b[90m━━━━━━━━━━━━━━━━━━━━━━━━━━━━━━━━━━━━━━\u001b[0m \u001b[32m300.4/300.4 kB\u001b[0m \u001b[31m33.9 MB/s\u001b[0m eta \u001b[36m0:00:00\u001b[0m\n",
      "\u001b[?25hInstalling collected packages: dnspython, pymongo\n",
      "Successfully installed dnspython-2.4.2 pymongo-4.5.0\n",
      "\n",
      "\u001b[1m[\u001b[0m\u001b[34;49mnotice\u001b[0m\u001b[1;39;49m]\u001b[0m\u001b[39;49m A new release of pip is available: \u001b[0m\u001b[31;49m23.1.2\u001b[0m\u001b[39;49m -> \u001b[0m\u001b[32;49m23.2.1\u001b[0m\n",
      "\u001b[1m[\u001b[0m\u001b[34;49mnotice\u001b[0m\u001b[1;39;49m]\u001b[0m\u001b[39;49m To update, run: \u001b[0m\u001b[32;49m/Users/annamatacortada/opt/anaconda3/bin/python -m pip install --upgrade pip\u001b[0m\n",
      "Note: you may need to restart the kernel to use updated packages.\n"
     ]
    }
   ],
   "source": [
    "pip install pymongo"
   ]
  },
  {
   "cell_type": "code",
   "execution_count": 4,
   "id": "518878e8",
   "metadata": {},
   "outputs": [],
   "source": [
    "import pprint"
   ]
  },
  {
   "cell_type": "code",
   "execution_count": 1,
   "id": "5dbbb3e8",
   "metadata": {},
   "outputs": [],
   "source": [
    "from pymongo import MongoClient\n",
    "client = MongoClient()"
   ]
  },
  {
   "cell_type": "code",
   "execution_count": 2,
   "id": "96aa0494",
   "metadata": {},
   "outputs": [],
   "source": [
    "db = client['prueba']"
   ]
  },
  {
   "cell_type": "code",
   "execution_count": 3,
   "id": "2304fe2d",
   "metadata": {},
   "outputs": [],
   "source": [
    "collection = db['myCollection']"
   ]
  },
  {
   "cell_type": "code",
   "execution_count": 7,
   "id": "5d9c9394",
   "metadata": {},
   "outputs": [],
   "source": [
    "for elemento in collection.find():\n",
    "    pprint.pprint(elemento)"
   ]
  },
  {
   "cell_type": "code",
   "execution_count": 9,
   "id": "edf218e6",
   "metadata": {},
   "outputs": [],
   "source": [
    "import datetime\n",
    "post = {\"author\": \"Mike\",\n",
    "\"text\": \"My first blog post!\",\n",
    "\"tags\": [\"mongodb\", \"python\", \"pymongo\"],\n",
    "\"date\": datetime.datetime.utcnow()}"
   ]
  },
  {
   "cell_type": "code",
   "execution_count": null,
   "id": "04cc0163",
   "metadata": {},
   "outputs": [],
   "source": []
  }
 ],
 "metadata": {
  "kernelspec": {
   "display_name": "Python 3 (ipykernel)",
   "language": "python",
   "name": "python3"
  },
  "language_info": {
   "codemirror_mode": {
    "name": "ipython",
    "version": 3
   },
   "file_extension": ".py",
   "mimetype": "text/x-python",
   "name": "python",
   "nbconvert_exporter": "python",
   "pygments_lexer": "ipython3",
   "version": "3.9.13"
  }
 },
 "nbformat": 4,
 "nbformat_minor": 5
}
