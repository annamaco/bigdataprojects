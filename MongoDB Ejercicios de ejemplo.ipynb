{
 "cells": [
  {
   "cell_type": "code",
   "execution_count": 1,
   "id": "baf40a0c",
   "metadata": {},
   "outputs": [],
   "source": [
    "from pymongo import MongoClient"
   ]
  },
  {
   "cell_type": "code",
   "execution_count": null,
   "id": "b937f6d2",
   "metadata": {},
   "outputs": [],
   "source": [
    "mongoimport --db atrium_anna --collection restaurants --file /Users/annamatacortada/Downloads/2-NoSQL/restaurants.json"
   ]
  },
  {
   "cell_type": "code",
   "execution_count": 10,
   "id": "f152cc6b",
   "metadata": {},
   "outputs": [
    {
     "ename": "JSONDecodeError",
     "evalue": "Extra data: line 2 column 1 (char 544)",
     "output_type": "error",
     "traceback": [
      "\u001b[0;31m---------------------------------------------------------------------------\u001b[0m",
      "\u001b[0;31mJSONDecodeError\u001b[0m                           Traceback (most recent call last)",
      "Input \u001b[0;32mIn [10]\u001b[0m, in \u001b[0;36m<cell line: 4>\u001b[0;34m()\u001b[0m\n\u001b[1;32m      3\u001b[0m \u001b[38;5;66;03m# Load the JSON data\u001b[39;00m\n\u001b[1;32m      4\u001b[0m \u001b[38;5;28;01mwith\u001b[39;00m \u001b[38;5;28mopen\u001b[39m(\u001b[38;5;124m'\u001b[39m\u001b[38;5;124m/Users/annamatacortada/Downloads/2-NoSQL/restaurants.json\u001b[39m\u001b[38;5;124m'\u001b[39m, \u001b[38;5;124m'\u001b[39m\u001b[38;5;124mr\u001b[39m\u001b[38;5;124m'\u001b[39m) \u001b[38;5;28;01mas\u001b[39;00m file:\n\u001b[0;32m----> 5\u001b[0m     data \u001b[38;5;241m=\u001b[39m \u001b[43mjson\u001b[49m\u001b[38;5;241;43m.\u001b[39;49m\u001b[43mload\u001b[49m\u001b[43m(\u001b[49m\u001b[43mfile\u001b[49m\u001b[43m)\u001b[49m  \u001b[38;5;66;03m# Use 'file' instead of 'restaurants.json'\u001b[39;00m\n\u001b[1;32m      7\u001b[0m \u001b[38;5;66;03m# Check the data type\u001b[39;00m\n\u001b[1;32m      8\u001b[0m \u001b[38;5;28;01mif\u001b[39;00m \u001b[38;5;28misinstance\u001b[39m(data, \u001b[38;5;28mdict\u001b[39m):\n",
      "File \u001b[0;32m~/opt/anaconda3/lib/python3.9/json/__init__.py:293\u001b[0m, in \u001b[0;36mload\u001b[0;34m(fp, cls, object_hook, parse_float, parse_int, parse_constant, object_pairs_hook, **kw)\u001b[0m\n\u001b[1;32m    274\u001b[0m \u001b[38;5;28;01mdef\u001b[39;00m \u001b[38;5;21mload\u001b[39m(fp, \u001b[38;5;241m*\u001b[39m, \u001b[38;5;28mcls\u001b[39m\u001b[38;5;241m=\u001b[39m\u001b[38;5;28;01mNone\u001b[39;00m, object_hook\u001b[38;5;241m=\u001b[39m\u001b[38;5;28;01mNone\u001b[39;00m, parse_float\u001b[38;5;241m=\u001b[39m\u001b[38;5;28;01mNone\u001b[39;00m,\n\u001b[1;32m    275\u001b[0m         parse_int\u001b[38;5;241m=\u001b[39m\u001b[38;5;28;01mNone\u001b[39;00m, parse_constant\u001b[38;5;241m=\u001b[39m\u001b[38;5;28;01mNone\u001b[39;00m, object_pairs_hook\u001b[38;5;241m=\u001b[39m\u001b[38;5;28;01mNone\u001b[39;00m, \u001b[38;5;241m*\u001b[39m\u001b[38;5;241m*\u001b[39mkw):\n\u001b[1;32m    276\u001b[0m     \u001b[38;5;124;03m\"\"\"Deserialize ``fp`` (a ``.read()``-supporting file-like object containing\u001b[39;00m\n\u001b[1;32m    277\u001b[0m \u001b[38;5;124;03m    a JSON document) to a Python object.\u001b[39;00m\n\u001b[1;32m    278\u001b[0m \n\u001b[0;32m   (...)\u001b[0m\n\u001b[1;32m    291\u001b[0m \u001b[38;5;124;03m    kwarg; otherwise ``JSONDecoder`` is used.\u001b[39;00m\n\u001b[1;32m    292\u001b[0m \u001b[38;5;124;03m    \"\"\"\u001b[39;00m\n\u001b[0;32m--> 293\u001b[0m     \u001b[38;5;28;01mreturn\u001b[39;00m \u001b[43mloads\u001b[49m\u001b[43m(\u001b[49m\u001b[43mfp\u001b[49m\u001b[38;5;241;43m.\u001b[39;49m\u001b[43mread\u001b[49m\u001b[43m(\u001b[49m\u001b[43m)\u001b[49m\u001b[43m,\u001b[49m\n\u001b[1;32m    294\u001b[0m \u001b[43m        \u001b[49m\u001b[38;5;28;43mcls\u001b[39;49m\u001b[38;5;241;43m=\u001b[39;49m\u001b[38;5;28;43mcls\u001b[39;49m\u001b[43m,\u001b[49m\u001b[43m \u001b[49m\u001b[43mobject_hook\u001b[49m\u001b[38;5;241;43m=\u001b[39;49m\u001b[43mobject_hook\u001b[49m\u001b[43m,\u001b[49m\n\u001b[1;32m    295\u001b[0m \u001b[43m        \u001b[49m\u001b[43mparse_float\u001b[49m\u001b[38;5;241;43m=\u001b[39;49m\u001b[43mparse_float\u001b[49m\u001b[43m,\u001b[49m\u001b[43m \u001b[49m\u001b[43mparse_int\u001b[49m\u001b[38;5;241;43m=\u001b[39;49m\u001b[43mparse_int\u001b[49m\u001b[43m,\u001b[49m\n\u001b[1;32m    296\u001b[0m \u001b[43m        \u001b[49m\u001b[43mparse_constant\u001b[49m\u001b[38;5;241;43m=\u001b[39;49m\u001b[43mparse_constant\u001b[49m\u001b[43m,\u001b[49m\u001b[43m \u001b[49m\u001b[43mobject_pairs_hook\u001b[49m\u001b[38;5;241;43m=\u001b[39;49m\u001b[43mobject_pairs_hook\u001b[49m\u001b[43m,\u001b[49m\u001b[43m \u001b[49m\u001b[38;5;241;43m*\u001b[39;49m\u001b[38;5;241;43m*\u001b[39;49m\u001b[43mkw\u001b[49m\u001b[43m)\u001b[49m\n",
      "File \u001b[0;32m~/opt/anaconda3/lib/python3.9/json/__init__.py:346\u001b[0m, in \u001b[0;36mloads\u001b[0;34m(s, cls, object_hook, parse_float, parse_int, parse_constant, object_pairs_hook, **kw)\u001b[0m\n\u001b[1;32m    341\u001b[0m     s \u001b[38;5;241m=\u001b[39m s\u001b[38;5;241m.\u001b[39mdecode(detect_encoding(s), \u001b[38;5;124m'\u001b[39m\u001b[38;5;124msurrogatepass\u001b[39m\u001b[38;5;124m'\u001b[39m)\n\u001b[1;32m    343\u001b[0m \u001b[38;5;28;01mif\u001b[39;00m (\u001b[38;5;28mcls\u001b[39m \u001b[38;5;129;01mis\u001b[39;00m \u001b[38;5;28;01mNone\u001b[39;00m \u001b[38;5;129;01mand\u001b[39;00m object_hook \u001b[38;5;129;01mis\u001b[39;00m \u001b[38;5;28;01mNone\u001b[39;00m \u001b[38;5;129;01mand\u001b[39;00m\n\u001b[1;32m    344\u001b[0m         parse_int \u001b[38;5;129;01mis\u001b[39;00m \u001b[38;5;28;01mNone\u001b[39;00m \u001b[38;5;129;01mand\u001b[39;00m parse_float \u001b[38;5;129;01mis\u001b[39;00m \u001b[38;5;28;01mNone\u001b[39;00m \u001b[38;5;129;01mand\u001b[39;00m\n\u001b[1;32m    345\u001b[0m         parse_constant \u001b[38;5;129;01mis\u001b[39;00m \u001b[38;5;28;01mNone\u001b[39;00m \u001b[38;5;129;01mand\u001b[39;00m object_pairs_hook \u001b[38;5;129;01mis\u001b[39;00m \u001b[38;5;28;01mNone\u001b[39;00m \u001b[38;5;129;01mand\u001b[39;00m \u001b[38;5;129;01mnot\u001b[39;00m kw):\n\u001b[0;32m--> 346\u001b[0m     \u001b[38;5;28;01mreturn\u001b[39;00m \u001b[43m_default_decoder\u001b[49m\u001b[38;5;241;43m.\u001b[39;49m\u001b[43mdecode\u001b[49m\u001b[43m(\u001b[49m\u001b[43ms\u001b[49m\u001b[43m)\u001b[49m\n\u001b[1;32m    347\u001b[0m \u001b[38;5;28;01mif\u001b[39;00m \u001b[38;5;28mcls\u001b[39m \u001b[38;5;129;01mis\u001b[39;00m \u001b[38;5;28;01mNone\u001b[39;00m:\n\u001b[1;32m    348\u001b[0m     \u001b[38;5;28mcls\u001b[39m \u001b[38;5;241m=\u001b[39m JSONDecoder\n",
      "File \u001b[0;32m~/opt/anaconda3/lib/python3.9/json/decoder.py:340\u001b[0m, in \u001b[0;36mJSONDecoder.decode\u001b[0;34m(self, s, _w)\u001b[0m\n\u001b[1;32m    338\u001b[0m end \u001b[38;5;241m=\u001b[39m _w(s, end)\u001b[38;5;241m.\u001b[39mend()\n\u001b[1;32m    339\u001b[0m \u001b[38;5;28;01mif\u001b[39;00m end \u001b[38;5;241m!=\u001b[39m \u001b[38;5;28mlen\u001b[39m(s):\n\u001b[0;32m--> 340\u001b[0m     \u001b[38;5;28;01mraise\u001b[39;00m JSONDecodeError(\u001b[38;5;124m\"\u001b[39m\u001b[38;5;124mExtra data\u001b[39m\u001b[38;5;124m\"\u001b[39m, s, end)\n\u001b[1;32m    341\u001b[0m \u001b[38;5;28;01mreturn\u001b[39;00m obj\n",
      "\u001b[0;31mJSONDecodeError\u001b[0m: Extra data: line 2 column 1 (char 544)"
     ]
    }
   ],
   "source": [
    "import json\n",
    "\n",
    "# Load the JSON data\n",
    "with open('/Users/annamatacortada/Downloads/2-NoSQL/restaurants.json', 'r') as file:\n",
    "    data = json.load(file)  # Use 'file' instead of 'restaurants.json'\n",
    "\n",
    "# Check the data type\n",
    "if isinstance(data, dict):\n",
    "    print(\"The file contains a JSON object.\")\n",
    "elif isinstance(data, list):\n",
    "    print(\"The file contains a JSON array.\")\n",
    "else:\n",
    "    print(\"Unexpected data type in JSON file.\")\n"
   ]
  },
  {
   "cell_type": "code",
   "execution_count": null,
   "id": "54530be9",
   "metadata": {},
   "outputs": [],
   "source": []
  },
  {
   "cell_type": "code",
   "execution_count": 3,
   "id": "09ea0b19",
   "metadata": {},
   "outputs": [
    {
     "ename": "JSONDecodeError",
     "evalue": "Extra data: line 2 column 1 (char 544)",
     "output_type": "error",
     "traceback": [
      "\u001b[0;31m---------------------------------------------------------------------------\u001b[0m",
      "\u001b[0;31mJSONDecodeError\u001b[0m                           Traceback (most recent call last)",
      "Input \u001b[0;32mIn [3]\u001b[0m, in \u001b[0;36m<cell line: 9>\u001b[0;34m()\u001b[0m\n\u001b[1;32m      8\u001b[0m \u001b[38;5;66;03m# Insert Data from a JSON file\u001b[39;00m\n\u001b[1;32m      9\u001b[0m \u001b[38;5;28;01mwith\u001b[39;00m \u001b[38;5;28mopen\u001b[39m(\u001b[38;5;124m'\u001b[39m\u001b[38;5;124m/Users/annamatacortada/Downloads/2-NoSQL/restaurants.json\u001b[39m\u001b[38;5;124m'\u001b[39m, \u001b[38;5;124m'\u001b[39m\u001b[38;5;124mr\u001b[39m\u001b[38;5;124m'\u001b[39m) \u001b[38;5;28;01mas\u001b[39;00m file:\n\u001b[0;32m---> 10\u001b[0m     data \u001b[38;5;241m=\u001b[39m \u001b[43mjson\u001b[49m\u001b[38;5;241;43m.\u001b[39;49m\u001b[43mload\u001b[49m\u001b[43m(\u001b[49m\u001b[43mfile\u001b[49m\u001b[43m)\u001b[49m\n\u001b[1;32m     12\u001b[0m \u001b[38;5;66;03m# If the file contains a JSON array\u001b[39;00m\n\u001b[1;32m     13\u001b[0m \u001b[38;5;28;01mif\u001b[39;00m \u001b[38;5;28misinstance\u001b[39m(data, \u001b[38;5;28mlist\u001b[39m):\n",
      "File \u001b[0;32m~/opt/anaconda3/lib/python3.9/json/__init__.py:293\u001b[0m, in \u001b[0;36mload\u001b[0;34m(fp, cls, object_hook, parse_float, parse_int, parse_constant, object_pairs_hook, **kw)\u001b[0m\n\u001b[1;32m    274\u001b[0m \u001b[38;5;28;01mdef\u001b[39;00m \u001b[38;5;21mload\u001b[39m(fp, \u001b[38;5;241m*\u001b[39m, \u001b[38;5;28mcls\u001b[39m\u001b[38;5;241m=\u001b[39m\u001b[38;5;28;01mNone\u001b[39;00m, object_hook\u001b[38;5;241m=\u001b[39m\u001b[38;5;28;01mNone\u001b[39;00m, parse_float\u001b[38;5;241m=\u001b[39m\u001b[38;5;28;01mNone\u001b[39;00m,\n\u001b[1;32m    275\u001b[0m         parse_int\u001b[38;5;241m=\u001b[39m\u001b[38;5;28;01mNone\u001b[39;00m, parse_constant\u001b[38;5;241m=\u001b[39m\u001b[38;5;28;01mNone\u001b[39;00m, object_pairs_hook\u001b[38;5;241m=\u001b[39m\u001b[38;5;28;01mNone\u001b[39;00m, \u001b[38;5;241m*\u001b[39m\u001b[38;5;241m*\u001b[39mkw):\n\u001b[1;32m    276\u001b[0m     \u001b[38;5;124;03m\"\"\"Deserialize ``fp`` (a ``.read()``-supporting file-like object containing\u001b[39;00m\n\u001b[1;32m    277\u001b[0m \u001b[38;5;124;03m    a JSON document) to a Python object.\u001b[39;00m\n\u001b[1;32m    278\u001b[0m \n\u001b[0;32m   (...)\u001b[0m\n\u001b[1;32m    291\u001b[0m \u001b[38;5;124;03m    kwarg; otherwise ``JSONDecoder`` is used.\u001b[39;00m\n\u001b[1;32m    292\u001b[0m \u001b[38;5;124;03m    \"\"\"\u001b[39;00m\n\u001b[0;32m--> 293\u001b[0m     \u001b[38;5;28;01mreturn\u001b[39;00m \u001b[43mloads\u001b[49m\u001b[43m(\u001b[49m\u001b[43mfp\u001b[49m\u001b[38;5;241;43m.\u001b[39;49m\u001b[43mread\u001b[49m\u001b[43m(\u001b[49m\u001b[43m)\u001b[49m\u001b[43m,\u001b[49m\n\u001b[1;32m    294\u001b[0m \u001b[43m        \u001b[49m\u001b[38;5;28;43mcls\u001b[39;49m\u001b[38;5;241;43m=\u001b[39;49m\u001b[38;5;28;43mcls\u001b[39;49m\u001b[43m,\u001b[49m\u001b[43m \u001b[49m\u001b[43mobject_hook\u001b[49m\u001b[38;5;241;43m=\u001b[39;49m\u001b[43mobject_hook\u001b[49m\u001b[43m,\u001b[49m\n\u001b[1;32m    295\u001b[0m \u001b[43m        \u001b[49m\u001b[43mparse_float\u001b[49m\u001b[38;5;241;43m=\u001b[39;49m\u001b[43mparse_float\u001b[49m\u001b[43m,\u001b[49m\u001b[43m \u001b[49m\u001b[43mparse_int\u001b[49m\u001b[38;5;241;43m=\u001b[39;49m\u001b[43mparse_int\u001b[49m\u001b[43m,\u001b[49m\n\u001b[1;32m    296\u001b[0m \u001b[43m        \u001b[49m\u001b[43mparse_constant\u001b[49m\u001b[38;5;241;43m=\u001b[39;49m\u001b[43mparse_constant\u001b[49m\u001b[43m,\u001b[49m\u001b[43m \u001b[49m\u001b[43mobject_pairs_hook\u001b[49m\u001b[38;5;241;43m=\u001b[39;49m\u001b[43mobject_pairs_hook\u001b[49m\u001b[43m,\u001b[49m\u001b[43m \u001b[49m\u001b[38;5;241;43m*\u001b[39;49m\u001b[38;5;241;43m*\u001b[39;49m\u001b[43mkw\u001b[49m\u001b[43m)\u001b[49m\n",
      "File \u001b[0;32m~/opt/anaconda3/lib/python3.9/json/__init__.py:346\u001b[0m, in \u001b[0;36mloads\u001b[0;34m(s, cls, object_hook, parse_float, parse_int, parse_constant, object_pairs_hook, **kw)\u001b[0m\n\u001b[1;32m    341\u001b[0m     s \u001b[38;5;241m=\u001b[39m s\u001b[38;5;241m.\u001b[39mdecode(detect_encoding(s), \u001b[38;5;124m'\u001b[39m\u001b[38;5;124msurrogatepass\u001b[39m\u001b[38;5;124m'\u001b[39m)\n\u001b[1;32m    343\u001b[0m \u001b[38;5;28;01mif\u001b[39;00m (\u001b[38;5;28mcls\u001b[39m \u001b[38;5;129;01mis\u001b[39;00m \u001b[38;5;28;01mNone\u001b[39;00m \u001b[38;5;129;01mand\u001b[39;00m object_hook \u001b[38;5;129;01mis\u001b[39;00m \u001b[38;5;28;01mNone\u001b[39;00m \u001b[38;5;129;01mand\u001b[39;00m\n\u001b[1;32m    344\u001b[0m         parse_int \u001b[38;5;129;01mis\u001b[39;00m \u001b[38;5;28;01mNone\u001b[39;00m \u001b[38;5;129;01mand\u001b[39;00m parse_float \u001b[38;5;129;01mis\u001b[39;00m \u001b[38;5;28;01mNone\u001b[39;00m \u001b[38;5;129;01mand\u001b[39;00m\n\u001b[1;32m    345\u001b[0m         parse_constant \u001b[38;5;129;01mis\u001b[39;00m \u001b[38;5;28;01mNone\u001b[39;00m \u001b[38;5;129;01mand\u001b[39;00m object_pairs_hook \u001b[38;5;129;01mis\u001b[39;00m \u001b[38;5;28;01mNone\u001b[39;00m \u001b[38;5;129;01mand\u001b[39;00m \u001b[38;5;129;01mnot\u001b[39;00m kw):\n\u001b[0;32m--> 346\u001b[0m     \u001b[38;5;28;01mreturn\u001b[39;00m \u001b[43m_default_decoder\u001b[49m\u001b[38;5;241;43m.\u001b[39;49m\u001b[43mdecode\u001b[49m\u001b[43m(\u001b[49m\u001b[43ms\u001b[49m\u001b[43m)\u001b[49m\n\u001b[1;32m    347\u001b[0m \u001b[38;5;28;01mif\u001b[39;00m \u001b[38;5;28mcls\u001b[39m \u001b[38;5;129;01mis\u001b[39;00m \u001b[38;5;28;01mNone\u001b[39;00m:\n\u001b[1;32m    348\u001b[0m     \u001b[38;5;28mcls\u001b[39m \u001b[38;5;241m=\u001b[39m JSONDecoder\n",
      "File \u001b[0;32m~/opt/anaconda3/lib/python3.9/json/decoder.py:340\u001b[0m, in \u001b[0;36mJSONDecoder.decode\u001b[0;34m(self, s, _w)\u001b[0m\n\u001b[1;32m    338\u001b[0m end \u001b[38;5;241m=\u001b[39m _w(s, end)\u001b[38;5;241m.\u001b[39mend()\n\u001b[1;32m    339\u001b[0m \u001b[38;5;28;01mif\u001b[39;00m end \u001b[38;5;241m!=\u001b[39m \u001b[38;5;28mlen\u001b[39m(s):\n\u001b[0;32m--> 340\u001b[0m     \u001b[38;5;28;01mraise\u001b[39;00m JSONDecodeError(\u001b[38;5;124m\"\u001b[39m\u001b[38;5;124mExtra data\u001b[39m\u001b[38;5;124m\"\u001b[39m, s, end)\n\u001b[1;32m    341\u001b[0m \u001b[38;5;28;01mreturn\u001b[39;00m obj\n",
      "\u001b[0;31mJSONDecodeError\u001b[0m: Extra data: line 2 column 1 (char 544)"
     ]
    }
   ],
   "source": [
    "# Connect to MongoDB\n",
    "client = MongoClient('localhost', 27017)\n",
    "\n",
    "# Create a Database and Collection\n",
    "db = client['atrium_anna']\n",
    "collection = db['restaurants']\n",
    "\n",
    "# Insert Data from a JSON file\n",
    "with open('/Users/annamatacortada/Downloads/2-NoSQL/restaurants.json', 'r') as file:\n",
    "    data = json.load(file)\n",
    "\n",
    "# If the file contains a JSON array\n",
    "if isinstance(data, list):\n",
    "    collection.insert_many(data)"
   ]
  },
  {
   "cell_type": "code",
   "execution_count": null,
   "id": "8d71d4ad",
   "metadata": {},
   "outputs": [],
   "source": [
    "1. Write a MongoDB query to display all the documents in the collection\n",
    "restaurants."
   ]
  },
  {
   "cell_type": "code",
   "execution_count": null,
   "id": "3616166f",
   "metadata": {},
   "outputs": [],
   "source": [
    "2. Write a MongoDB query to display the fields restaurant_id, name,\n",
    "borough and cuisine for all the documents in the collection restaurant."
   ]
  },
  {
   "cell_type": "code",
   "execution_count": null,
   "id": "b6d9dadc",
   "metadata": {},
   "outputs": [],
   "source": [
    "3. Write a MongoDB query to display the fields restaurant_id, name,\n",
    "borough and cuisine, but exclude the field _id for all the documents in the\n",
    "collection restaurant."
   ]
  },
  {
   "cell_type": "code",
   "execution_count": null,
   "id": "87b9da3a",
   "metadata": {},
   "outputs": [],
   "source": [
    "4. Write a MongoDB query to display the fields restaurant_id, name,\n",
    "borough and zip code, but exclude the field _id for all the documents in\n",
    "the collection restaurant."
   ]
  },
  {
   "cell_type": "code",
   "execution_count": null,
   "id": "36855dcc",
   "metadata": {},
   "outputs": [],
   "source": [
    "5. Write a MongoDB query to display all the restaurant which is in the\n",
    "borough Bronx."
   ]
  },
  {
   "cell_type": "code",
   "execution_count": null,
   "id": "89223a12",
   "metadata": {},
   "outputs": [],
   "source": [
    "6. Write a MongoDB query to display the first 5 restaurant which is in the\n",
    "borough Bronx."
   ]
  },
  {
   "cell_type": "code",
   "execution_count": null,
   "id": "0a7fe000",
   "metadata": {},
   "outputs": [],
   "source": [
    "7.Write a MongoDB query to display the next 5 restaurants after skipping\n",
    "first 5 which are in the borough Bronx."
   ]
  },
  {
   "cell_type": "code",
   "execution_count": null,
   "id": "ca3a9b5b",
   "metadata": {},
   "outputs": [],
   "source": [
    "8. Write a MongoDB query to find the restaurants who achieved a score\n",
    "more than 90."
   ]
  },
  {
   "cell_type": "code",
   "execution_count": null,
   "id": "6e85d84e",
   "metadata": {},
   "outputs": [],
   "source": [
    "9. Write a MongoDB query to find the restaurants that achieved a score,\n",
    "more than 80 but less than 100."
   ]
  },
  {
   "cell_type": "code",
   "execution_count": null,
   "id": "08bef6d3",
   "metadata": {},
   "outputs": [],
   "source": [
    "10. Write a MongoDB query to find the restaurants which locate in latitude\n",
    "value less than -95.754168."
   ]
  },
  {
   "cell_type": "code",
   "execution_count": null,
   "id": "bd3d03c0",
   "metadata": {},
   "outputs": [],
   "source": [
    "11. Write a MongoDB query to find the restaurants that do not prepare\n",
    "any cuisine of 'American' and their grade score more than 70 and latitude\n",
    "less than -65.754168."
   ]
  },
  {
   "cell_type": "code",
   "execution_count": null,
   "id": "ef7ed9fc",
   "metadata": {},
   "outputs": [],
   "source": [
    "12. Write a MongoDB query to find the restaurants which do not prepare\n",
    "any cuisine of 'American' and achieved a score more than 70 and located\n",
    "in the longitude less than -65.754168.\n",
    "Note : Do this query without using $and operator."
   ]
  },
  {
   "cell_type": "code",
   "execution_count": null,
   "id": "5917ab55",
   "metadata": {},
   "outputs": [],
   "source": [
    "13. Write a MongoDB query to find the restaurants which do not prepare\n",
    "any cuisine of 'American ' and achieved a grade point 'A' not belongs to\n",
    "the borough Brooklyn. The document must be displayed according to the\n",
    "cuisine in descending order."
   ]
  },
  {
   "cell_type": "code",
   "execution_count": null,
   "id": "def6ca76",
   "metadata": {},
   "outputs": [],
   "source": [
    "14. Write a MongoDB query to find the restaurant Id, name, borough and\n",
    "cuisine for those restaurants which contain 'Wil' as first three letters for its\n",
    "name."
   ]
  },
  {
   "cell_type": "code",
   "execution_count": null,
   "id": "9dc2e51b",
   "metadata": {},
   "outputs": [],
   "source": [
    "15. Write a MongoDB query to find the restaurant Id, name, borough and\n",
    "cuisine for those restaurants which contain 'ces' as last three letters for its\n",
    "name."
   ]
  },
  {
   "cell_type": "code",
   "execution_count": null,
   "id": "7015e006",
   "metadata": {},
   "outputs": [],
   "source": [
    "16. Write a MongoDB query to find the restaurant Id, name, borough and\n",
    "cuisine for those restaurants which contain 'Reg' as three letters\n",
    "somewhere in its name."
   ]
  },
  {
   "cell_type": "code",
   "execution_count": null,
   "id": "c73906d4",
   "metadata": {},
   "outputs": [],
   "source": [
    "17. Write a MongoDB query to find the restaurants which belong to the\n",
    "borough Bronx and prepared either American or Chinese dish."
   ]
  },
  {
   "cell_type": "code",
   "execution_count": null,
   "id": "28eca982",
   "metadata": {},
   "outputs": [],
   "source": [
    "18. Write a MongoDB query to find the restaurant Id, name, borough and\n",
    "cuisine for those restaurants which belong to the borough Staten Island or\n",
    "Queens or Bronxor Brooklyn."
   ]
  },
  {
   "cell_type": "code",
   "execution_count": null,
   "id": "bf8186d3",
   "metadata": {},
   "outputs": [],
   "source": [
    "19. Write a MongoDB query to find the restaurant Id, name, borough and\n",
    "cuisine for those restaurants which are not belonging to the borough\n",
    "Staten Island or Queens or Bronxor Brooklyn."
   ]
  },
  {
   "cell_type": "code",
   "execution_count": null,
   "id": "96f8b6fd",
   "metadata": {},
   "outputs": [],
   "source": [
    "20. Write a MongoDB query to find the restaurant Id, name, borough and\n",
    "cuisine for those restaurants which achieved a score which is not more\n",
    "than 10."
   ]
  },
  {
   "cell_type": "code",
   "execution_count": null,
   "id": "5a3e5f04",
   "metadata": {},
   "outputs": [],
   "source": [
    "21. Write a MongoDB query to find the restaurant Id, name, borough and\n",
    "cuisine for those restaurants which prepared dish except 'American' and\n",
    "'Chinees' or restaurant's name begins with letter 'Wil'."
   ]
  },
  {
   "cell_type": "code",
   "execution_count": null,
   "id": "f1dc9ab9",
   "metadata": {},
   "outputs": [],
   "source": [
    "22. Write a MongoDB query to find the restaurant Id, name, and grades\n",
    "for those restaurants which achieved a grade of \"A\" and scored 11 on an\n",
    "ISODate \"2014-08-11T00:00:00Z\" among many of survey dates.."
   ]
  },
  {
   "cell_type": "code",
   "execution_count": null,
   "id": "0ffc606a",
   "metadata": {},
   "outputs": [],
   "source": [
    "23. Write a MongoDB query to find the restaurant Id, name and grades for\n",
    "those restaurants where the 2nd element of grades array contains a\n",
    "grade of \"A\" and score 9 on an ISODate \"2014-08-11T00:00:00Z\"."
   ]
  },
  {
   "cell_type": "code",
   "execution_count": null,
   "id": "40190d1a",
   "metadata": {},
   "outputs": [],
   "source": [
    "24. Write a MongoDB query to find the restaurant Id, name, address and\n",
    "geographical location for those restaurants where 2nd element of coord\n",
    "array contains a value which is more than 42 and upto 52.."
   ]
  },
  {
   "cell_type": "code",
   "execution_count": null,
   "id": "f3b6179f",
   "metadata": {},
   "outputs": [],
   "source": [
    "25. Write a MongoDB query to arrange the name of the restaurants in\n",
    "ascending order along with all the columns."
   ]
  },
  {
   "cell_type": "code",
   "execution_count": null,
   "id": "bf68092c",
   "metadata": {},
   "outputs": [],
   "source": [
    "26. Write a MongoDB query to arrange the name of the restaurants in\n",
    "descending along with all the columns."
   ]
  },
  {
   "cell_type": "code",
   "execution_count": null,
   "id": "9e031c6f",
   "metadata": {},
   "outputs": [],
   "source": [
    "27. Write a MongoDB query to arranged the name of the cuisine in\n",
    "ascending order and for that same cuisine borough should be in\n",
    "descending order."
   ]
  },
  {
   "cell_type": "code",
   "execution_count": null,
   "id": "a0ebcd92",
   "metadata": {},
   "outputs": [],
   "source": [
    "28. Write a MongoDB query to know whether all the addresses contains\n",
    "the street or not."
   ]
  },
  {
   "cell_type": "code",
   "execution_count": null,
   "id": "1e796d51",
   "metadata": {},
   "outputs": [],
   "source": [
    "29. Write a MongoDB query which will select all documents in the\n",
    "restaurants collection where the coord field value is Double."
   ]
  },
  {
   "cell_type": "code",
   "execution_count": null,
   "id": "8bac5420",
   "metadata": {},
   "outputs": [],
   "source": [
    "30. Write a MongoDB query which will select the restaurant Id, name and\n",
    "grades for those restaurants which returns 0 as a remainder after dividing\n",
    "the score by 7."
   ]
  },
  {
   "cell_type": "code",
   "execution_count": null,
   "id": "bb8f2a48",
   "metadata": {},
   "outputs": [],
   "source": [
    "31. Write a MongoDB query to find the restaurant name, borough,\n",
    "longitude and attitude and cuisine for those restaurants which contains\n",
    "'mon' as three letters somewhere in its name."
   ]
  },
  {
   "cell_type": "code",
   "execution_count": null,
   "id": "e9525b55",
   "metadata": {},
   "outputs": [],
   "source": [
    "32. Write a MongoDB query to find the restaurant name, borough,\n",
    "longitude and latitude and cuisine for those restaurants which contain\n",
    "'Mad' as first three letters of its name."
   ]
  }
 ],
 "metadata": {
  "kernelspec": {
   "display_name": "Python 3 (ipykernel)",
   "language": "python",
   "name": "python3"
  },
  "language_info": {
   "codemirror_mode": {
    "name": "ipython",
    "version": 3
   },
   "file_extension": ".py",
   "mimetype": "text/x-python",
   "name": "python",
   "nbconvert_exporter": "python",
   "pygments_lexer": "ipython3",
   "version": "3.9.13"
  }
 },
 "nbformat": 4,
 "nbformat_minor": 5
}
